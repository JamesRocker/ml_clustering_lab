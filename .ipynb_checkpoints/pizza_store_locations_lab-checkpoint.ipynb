{
 "cells": [
  {
   "cell_type": "markdown",
   "metadata": {},
   "source": [
    "# Clustering lab\n",
    "## Using clustering to find best store locations\n",
    "\n",
    "Imagine the following problem:<br>\n",
    "You own the pizza chain, and you collected data about pizza deliveries in a certain neighborhood. The data contains a coordinate of each delivery as a pair *(Latitude,Longitude)*. You do not have any stores in this neighborhood, and driving there takes a lot of resources from your business. So you decide to open $K$ new stores in this area. The goal is, based on the frequent delivery data, determine the best locations for the new stores.\n",
    "\n",
    "You need to perform the $K$-means clustering of delivery locations, and otput the best location for $K$ new stores. How would you choose the location of the store within each cluster that minimizes the overall distancebetween the store and the delivery address?\n",
    "\n",
    "The data is 2-dimensional and it is easy to plot it to see if the locations of new stores make sense."
   ]
  },
  {
   "cell_type": "code",
   "execution_count": 3,
   "metadata": {},
   "outputs": [],
   "source": [
    "%matplotlib inline\n",
    "import matplotlib.pyplot as plt\n",
    "import seaborn as sns; sns.set()  # for plot styling\n",
    "import pandas as pd\n",
    "import numpy as np"
   ]
  },
  {
   "cell_type": "markdown",
   "metadata": {},
   "source": [
    "The data is a real data collected by [this person](https://github.com/angelddaz) while working as a pizza delivery driver. The file [pizza_delivery_locations.csv](https://docs.google.com/spreadsheets/d/1guQN-_EykRqqlY2R3uYfopNX9pc8p-E8oHJr-RTXtQU/edit?usp=sharing) is a subset of the original data and contains only *(Latitude,Longitude)* of each delivery address. Download the file and update the path below."
   ]
  },
  {
   "cell_type": "code",
   "execution_count": 4,
   "metadata": {},
   "outputs": [],
   "source": [
    "data_file = \"../../data_ml_2020/pizza_delivery_locations.csv\""
   ]
  },
  {
   "cell_type": "code",
   "execution_count": 9,
   "metadata": {},
   "outputs": [
    {
     "name": "stdout",
     "output_type": "stream",
     "text": [
      "Index(['Latitude', 'Longitude'], dtype='object')\n",
      "[  43.666573 -116.263356]\n"
     ]
    }
   ],
   "source": [
    "data = pd.read_csv(data_file)\n",
    "print(data.columns)\n",
    "len(data)\n",
    "\n",
    "# convert dataframe to a 2D numpy array - it is easier to work with it\n",
    "data = data.to_numpy()\n",
    "\n",
    "print(data[0])"
   ]
  },
  {
   "cell_type": "markdown",
   "metadata": {},
   "source": [
    "## Task 1.\n",
    "\n",
    "Use $K$-means clustering algorithm to find the best locations for new pizza stores for $K$=2, $K$=3 and $K$=4. The answers should be represented as lists of *(Latitide,Longitude)* tuples for each value of $K$.\n",
    "\n",
    "You can use the custom code from the k-means demo, or you can use the `sklearn.KMeans` module to perform clustering."
   ]
  },
  {
   "cell_type": "code",
   "execution_count": 30,
   "metadata": {},
   "outputs": [],
   "source": [
    "from sklearn.cluster import KMeans\n",
    "\n",
    "# clustering code for 2,3 and 4 clusters\n",
    "kmeans_two = KMeans(n_clusters=2, random_state=0).fit(data)\n",
    "\n",
    "kmeans_three = KMeans(n_clusters=3, random_state=0).fit(data)\n",
    "\n",
    "kmeans_four = KMeans(n_clusters=4, random_state=0).fit(data)\n"
   ]
  },
  {
   "cell_type": "code",
   "execution_count": 32,
   "metadata": {},
   "outputs": [
    {
     "name": "stdout",
     "output_type": "stream",
     "text": [
      "When K=2, [[  43.66816551 -116.2660482 ]\n",
      " [  43.63727286 -116.22524745]]\n",
      "\n",
      "When K=3, [[  43.66816551 -116.2660482 ]\n",
      " [  43.64181413 -116.24036593]\n",
      " [  43.63263042 -116.20979217]]\n",
      "\n",
      "When K=2, [[  43.66395605 -116.26687948]\n",
      " [  43.63263042 -116.20979217]\n",
      " [  43.64181413 -116.24036593]\n",
      " [  43.723879   -116.255046  ]]\n",
      "\n"
     ]
    }
   ],
   "source": [
    "# Extracting best store locations for each cluster of addresses\n",
    "\n",
    "two_best_stores_loc = kmeans_two.cluster_centers_\n",
    "three_best_stores_loc = kmeans_three.cluster_centers_\n",
    "four_best_stores_loc = kmeans_four.cluster_centers_\n",
    "\n",
    "print(\"When K=2, {}\\n\".format(two_best_stores_loc))\n",
    "print(\"When K=3, {}\\n\".format(three_best_stores_loc))\n",
    "print(\"When K=2, {}\\n\".format(four_best_stores_loc))\n"
   ]
  },
  {
   "cell_type": "markdown",
   "metadata": {},
   "source": [
    "## Task 2\n",
    "Visualize clusters by plotting each data point and coloring it with the different color according to the cluster to which it belongs. Also plot the locations of new stores for each value of $K$. Some examples of the final visualizations are given below."
   ]
  },
  {
   "cell_type": "code",
   "execution_count": null,
   "metadata": {},
   "outputs": [],
   "source": []
  },
  {
   "cell_type": "markdown",
   "metadata": {},
   "source": [
    "## Examples of cluster visualization in 2D"
   ]
  },
  {
   "cell_type": "code",
   "execution_count": 41,
   "metadata": {},
   "outputs": [],
   "source": [
    "def lat_long(data):\n",
    "    longitude_lst = []\n",
    "    latitude_lst = []\n",
    "    for each_row in data:\n",
    "        latitude = each_row[0] \n",
    "        longitude = each_row[1]\n",
    "\n",
    "        longitude_lst.append(longitude)\n",
    "        latitude_lst.append(latitude)\n",
    "        \n",
    "    return latitude_lst,longitude_lst"
   ]
  },
  {
   "cell_type": "code",
   "execution_count": 44,
   "metadata": {},
   "outputs": [
    {
     "data": {
      "image/png": "[encoded data removed]",
      "text/plain": [
       "<Figure size 432x288 with 1 Axes>"
      ]
     },
     "metadata": {},
     "output_type": "display_data"
    }
   ],
   "source": [
    "# Plotting original data\n",
    "lat_lst,long_lst = lat_long(data)\n",
    "\n",
    "plt.scatter(long_lst, lat_lst)\n",
    "\n",
    "plt.xlabel(\"Longitude\")\n",
    "plt.ylabel(\"Latitude\")\n",
    "plt.show()\n",
    "\n",
    "    "
   ]
  },
  {
   "cell_type": "code",
   "execution_count": 49,
   "metadata": {},
   "outputs": [
    {
     "data": {
      "image/png": "[encoded data removed]",
      "text/plain": [
       "<Figure size 432x288 with 1 Axes>"
      ]
     },
     "metadata": {},
     "output_type": "display_data"
    }
   ],
   "source": [
    "# Plotting clusters with centers\n",
    "# for k = 2\n",
    "color_label = ['blue','green']\n",
    "\n",
    "kmeans_labels = kmeans_two.labels_\n",
    "color_lst = [color_label[val] for val in kmeans_labels]\n",
    "\n",
    "plt.scatter(longitude_lst,latitude_lst,c=color_lst)\n",
    "\n",
    "clus_lat_lst,clus_long_lst = lat_long(two_best_stores_loc)\n",
    "plt.scatter(clus_long_lst ,clus_lat_lst, s=200, color='black',alpha=0.4)\n",
    "\n",
    "plt.xlabel(\"Longitude\")\n",
    "plt.ylabel(\"Latitude\")\n",
    "plt.show()\n"
   ]
  },
  {
   "cell_type": "code",
   "execution_count": 40,
   "metadata": {},
   "outputs": [
    {
     "data": {
      "image/png": "[encoded data removed]",
      "text/plain": [
       "<Figure size 432x288 with 1 Axes>"
      ]
     },
     "metadata": {},
     "output_type": "display_data"
    }
   ],
   "source": [
    "color_label = ['blue','green', 'orange']\n",
    "\n",
    "kmeans_labels = kmeans_three.labels_\n",
    "color_lst = [color_label[val] for val in kmeans_labels]\n",
    "\n",
    "plt.scatter(longitude_lst,latitude_lst,c=color_lst)\n",
    "\n",
    "clus_lat_lst,clus_long_lst = lat_long(three_best_stores_loc)\n",
    "\n",
    "plt.scatter(clus_long_lst ,clus_lat_lst, s=200, color='black',alpha=0.4)\n",
    "\n",
    "plt.xlabel(\"Longitude\")\n",
    "plt.ylabel(\"Latitude\")\n",
    "plt.show()"
   ]
  },
  {
   "cell_type": "markdown",
   "metadata": {},
   "source": [
    "Copyright &copy; 2020 Marina Barsky. All rights reserved."
   ]
  }
 ],
 "metadata": {
  "kernelspec": {
   "display_name": "Python 3",
   "language": "python",
   "name": "python3"
  },
  "language_info": {
   "codemirror_mode": {
    "name": "ipython",
    "version": 3
   },
   "file_extension": ".py",
   "mimetype": "text/x-python",
   "name": "python",
   "nbconvert_exporter": "python",
   "pygments_lexer": "ipython3",
   "version": "3.8.3"
  }
 },
 "nbformat": 4,
 "nbformat_minor": 4
}
